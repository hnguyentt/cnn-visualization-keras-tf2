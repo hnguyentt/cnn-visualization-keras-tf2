{
 "cells": [
  {
   "cell_type": "code",
   "execution_count": 1,
   "metadata": {},
   "outputs": [],
   "source": [
    "import tensorflow as tf\n",
    "import io\n",
    "from PIL import Image\n",
    "import cv2\n",
    "import numpy as np\n",
    "from tensorflow.keras.models import Model\n",
    "from tensorflow.keras.applications.imagenet_utils import decode_predictions\n",
    "from tensorflow.keras import backend as K\n",
    "\n",
    "import ipywidgets as widgets\n",
    "from IPython.display import display, Javascript, HTML, clear_output, IFrame\n",
    "from ipywidgets import interact, interactive, fixed, interact_manual, AppLayout, GridspecLayout\n",
    "\n",
    "from src.utils import model_dicts, array2bytes, create_model, get_conv_layers\n",
    "from src.guidedBacprop import GuidedBackprop, deprocess_image\n",
    "from src.gradcam import GradCAM, overlay_gradCAM\n",
    "from src.filtersVis import extract_filter, vis_filter"
   ]
  },
  {
   "cell_type": "code",
   "execution_count": 2,
   "metadata": {},
   "outputs": [],
   "source": [
    "def create_expanded_button(description, button_style):\n",
    "    return widgets.Button(description=description, button_style=button_style,\n",
    "                          layout=widgets.Layout(height='auto', width='auto'))\n",
    "\n",
    "model_ls = [\"--Select\"] + list(model_dicts.keys())\n",
    "layer_ls = [\"--Select\"]\n",
    "method_ls = [\"--Select\",\"Filter vis\", \"Feature map vis\", \"DeConvnet\",\"Guided Backprop\"]\n",
    "class_ls = [\"--Select\"]\n",
    "\n",
    "uploader = widgets.FileUpload()\n",
    "show_but = create_expanded_button(\"Show image\",\"success\")\n",
    "header = widgets.HTML('<font color=\"#1f77b4\" face=\"sans-serif\"><center><h1>Visualize and Explain Networks</h1><h3>All pre-trained models (Keras) on ImageNet</h3><hr style=\"height:2px;border-width:0;color:gray;background-color:gray\"></center></font>',\n",
    "                      layout=widgets.Layout(height='auto'))\n",
    "models = widgets.Dropdown(options=model_ls, description=\"Model: \", layout={\"width\":\"auto\"},disabled=False)\n",
    "layers = widgets.Dropdown(options=layer_ls, description=\"Layer: \", layout={\"width\":\"auto\"},disabled=False)\n",
    "vis_but = create_expanded_button(\"Visualize\",\"info\")\n",
    "methods = widgets.Dropdown(options=method_ls, description=\"Vis method: \", layout={\"width\":\"auto\"},disabled=False)\n",
    "explain_but = create_expanded_button(\"Predict & Explain\",\"warning\")\n",
    "classes = widgets.Dropdown(options=class_ls, description=\"Vis class: \", layout={\"width\":\"auto\"},disabled=False)\n",
    "deep_dream_but = create_expanded_button(\"Generate\",\"primary\")\n",
    "deco = widgets.Image(\n",
    "    value=open(\"images/lapan.jpg\",\"rb\").read(),\n",
    "    format=\"jpg\",\n",
    "    width=\"auto\",\n",
    "    height=\"auto\",\n",
    "    align=\"center-align\"\n",
    ")"
   ]
  },
  {
   "cell_type": "code",
   "execution_count": 8,
   "metadata": {
    "scrolled": false
   },
   "outputs": [
    {
     "data": {
      "application/vnd.jupyter.widget-view+json": {
       "model_id": "e565c5b01a1c41db861f8164d784ec5b",
       "version_major": 2,
       "version_minor": 0
      },
      "text/plain": [
       "GridspecLayout(children=(FileUpload(value={}, description='Upload', layout=Layout(grid_area='widget001')), But…"
      ]
     },
     "metadata": {},
     "output_type": "display_data"
    }
   ],
   "source": [
    "# Layout\n",
    "grid = GridspecLayout(15,30,height=\"600px\")\n",
    "grid[0,:4] = uploader\n",
    "grid[0,5:9] = show_but\n",
    "grid[0:3,10:] = header\n",
    "grid[2,:9] = models\n",
    "grid[3,:9] = widgets.HTML('<hr style=\"height:2px;border-width:0;color:gray;background-color:gray\"><font color=\"gray\" face=\"sans-serif\"><center><h4>Filter and Feature Map Vis</h4></center>')\n",
    "grid[4,:9] = layers\n",
    "grid[5,:9] = methods\n",
    "grid[7,:9] = vis_but\n",
    "grid[8,:9] = widgets.HTML('<hr style=\"height:2px;border-width:0;color:gray;background-color:gray\"><font color=\"gray\" face=\"sans-serif\"><center><h4>Explanation</h4></center>')\n",
    "grid[9,:9] = explain_but\n",
    "grid[11,:9] = classes\n",
    "grid[12,:9] = widgets.HTML('<hr style=\"height:2px;border-width:0;color:gray;background-color:gray\"><font color=\"gray\" face=\"sans-serif\"><center><h4>Deep Dream</h4></center>')\n",
    "grid[13,:9] = deep_dream_but\n",
    "grid[4:12,10:] = deco\n",
    "grid[14,10:] = widgets.HTML('<font color=\"gray\" face=\"sans-serif\"><center><h4>Lang Co, Hue, Vietnam</h4></center>')\n",
    "display(grid)\n",
    "\n",
    "def on_change_model(change):\n",
    "    if change[\"type\"] == \"change\" and change[\"name\"] == \"value\":\n",
    "        chosen_model = change[\"new\"]\n",
    "        if chosen_model == \"--Select\":\n",
    "            layer_ls = [\"--Select\"]\n",
    "        else:\n",
    "            model = create_model(chosen_model)\n",
    "            layers.options = get_conv_layers(model)\n",
    "        \n",
    "    \n",
    "def show_button(sender):\n",
    "    for _, file_info in uploader.value.items():\n",
    "        image = Image.open(io.BytesIO(file_info['content']))\n",
    "        \n",
    "    img = np.array(image)\n",
    "    uploaded_img = widgets.Image(value=array2bytes(img))\n",
    "    grid[4:10,10:] = uploaded_img\n",
    "    \n",
    "def vis_button(sender):\n",
    "    clear_output()\n",
    "    display(grid)\n",
    "    model_name = models.value\n",
    "    model = create_model(model_name)\n",
    "    layer_name = layers.value\n",
    "    assert methods.value in method_ls, \"Method must be in {}\".format(method_ls)\n",
    "    if methods.value == \"Filter vis\":\n",
    "        filters = extract_filter(model=model,layer_name=layer_name)\n",
    "        print(\"Visualize filters {} of {}\".format(layer_name, model_name))\n",
    "        print(\"Filter shape: {}\".format(filters.shape))\n",
    "        print(\"Visualize 3 first channels of max 6 first filters:\")\n",
    "        vis_filter(filters)\n",
    "    \n",
    "    \n",
    "show_but.on_click(show_button)\n",
    "models.observe(on_change_model)\n",
    "vis_but.on_click(vis_button)\n"
   ]
  },
  {
   "cell_type": "code",
   "execution_count": null,
   "metadata": {},
   "outputs": [],
   "source": []
  }
 ],
 "metadata": {
  "kernelspec": {
   "display_name": "GradCAM",
   "language": "python",
   "name": "gradcam"
  },
  "language_info": {
   "codemirror_mode": {
    "name": "ipython",
    "version": 3
   },
   "file_extension": ".py",
   "mimetype": "text/x-python",
   "name": "python",
   "nbconvert_exporter": "python",
   "pygments_lexer": "ipython3",
   "version": "3.6.10"
  },
  "varInspector": {
   "cols": {
    "lenName": 16,
    "lenType": 16,
    "lenVar": 40
   },
   "kernels_config": {
    "python": {
     "delete_cmd_postfix": "",
     "delete_cmd_prefix": "del ",
     "library": "var_list.py",
     "varRefreshCmd": "print(var_dic_list())"
    },
    "r": {
     "delete_cmd_postfix": ") ",
     "delete_cmd_prefix": "rm(",
     "library": "var_list.r",
     "varRefreshCmd": "cat(var_dic_list()) "
    }
   },
   "types_to_exclude": [
    "module",
    "function",
    "builtin_function_or_method",
    "instance",
    "_Feature"
   ],
   "window_display": false
  }
 },
 "nbformat": 4,
 "nbformat_minor": 4
}
